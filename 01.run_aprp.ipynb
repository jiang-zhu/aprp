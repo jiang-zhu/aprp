{
 "cells": [
  {
   "cell_type": "code",
   "execution_count": 1,
   "id": "ba93aeb9-5774-48d8-ac11-441a4db1834d",
   "metadata": {},
   "outputs": [],
   "source": [
    "import aprp_xr as aprp\n",
    "import copy\n",
    "import re\n",
    "import xarray as xr\n",
    "import numpy as np"
   ]
  },
  {
   "cell_type": "code",
   "execution_count": 2,
   "id": "855a64f5-0438-42b1-83d6-4d256e83e81b",
   "metadata": {},
   "outputs": [],
   "source": [
    "import warnings\n",
    "warnings.filterwarnings('ignore')"
   ]
  },
  {
   "cell_type": "markdown",
   "id": "c9f90ddb-92a4-4530-bc97-1de1e1aff143",
   "metadata": {},
   "source": [
    "# Coupled 4xCO2 simulations"
   ]
  },
  {
   "cell_type": "code",
   "execution_count": 3,
   "id": "ca9287f7-6e7e-495a-b42a-7c1922c11733",
   "metadata": {
    "tags": []
   },
   "outputs": [],
   "source": [
    "cases = {}\n",
    "\n",
    "archive = '/glade/campaign/collections/cmip/CMIP6/timeseries-cmip6'\n",
    "data_out = '/glade/work/jiangzhu/data/aprp'\n",
    "\n",
    "key = 'PI_to_4xCO2'\n",
    "cases[key] = {\n",
    "    'case1': 'b.e21.B1850.f19_g17.CMIP6-piControl-2deg.001',\n",
    "    'case2': 'b.e21.BCO2x4.f19_g17.CMIP6-abrupt4xCO2-2deg.001',\n",
    "    'dir1': archive,\n",
    "    'dir2': archive,\n",
    "    'suffix1': ['030101-035012.nc', '035101-040012.nc', '040101-045012.nc'],\n",
    "    'suffix2': ['000101-005012.nc', '005101-010012.nc', '010101-015012.nc'],\n",
    "    'tlim1': slice(0, None),  # use all the available months\n",
    "    'tlim2': slice(0, None),  # use all the available months\n",
    "    'fout': f\"{data_out}/b.e21.B1850.f19_g17.CMIP6-piControl-2deg.001.{key}.aprp.000101-015012.nc\",\n",
    "}"
   ]
  },
  {
   "cell_type": "markdown",
   "id": "ceba402f-23b3-451f-99f6-3550757501f7",
   "metadata": {},
   "source": [
    "# Calculate aprp feedbacks for each case"
   ]
  },
  {
   "cell_type": "code",
   "execution_count": 4,
   "id": "b452aeeb-c69b-4d41-a402-c769d3c41b8e",
   "metadata": {
    "tags": []
   },
   "outputs": [
    {
     "name": "stdout",
     "output_type": "stream",
     "text": [
      "PI_to_4xCO2\n",
      "/glade/campaign/collections/cmip/CMIP6/timeseries-cmip6/b.e21.B1850.f19_g17.CMIP6-piControl-2deg.001/atm/proc/tseries/month_1/b.e21.B1850.f19_g17.CMIP6-piControl-2deg.001.cam.h0.CLDTOT.030101-035012.nc\n",
      "/glade/campaign/collections/cmip/CMIP6/timeseries-cmip6/b.e21.B1850.f19_g17.CMIP6-piControl-2deg.001/atm/proc/tseries/month_1/b.e21.B1850.f19_g17.CMIP6-piControl-2deg.001.cam.h0.CLDTOT.035101-040012.nc\n",
      "/glade/campaign/collections/cmip/CMIP6/timeseries-cmip6/b.e21.B1850.f19_g17.CMIP6-piControl-2deg.001/atm/proc/tseries/month_1/b.e21.B1850.f19_g17.CMIP6-piControl-2deg.001.cam.h0.CLDTOT.040101-045012.nc\n",
      "/glade/campaign/collections/cmip/CMIP6/timeseries-cmip6/b.e21.B1850.f19_g17.CMIP6-piControl-2deg.001/atm/proc/tseries/month_1/b.e21.B1850.f19_g17.CMIP6-piControl-2deg.001.cam.h0.FSDS.030101-035012.nc\n",
      "/glade/campaign/collections/cmip/CMIP6/timeseries-cmip6/b.e21.B1850.f19_g17.CMIP6-piControl-2deg.001/atm/proc/tseries/month_1/b.e21.B1850.f19_g17.CMIP6-piControl-2deg.001.cam.h0.FSDS.035101-040012.nc\n",
      "/glade/campaign/collections/cmip/CMIP6/timeseries-cmip6/b.e21.B1850.f19_g17.CMIP6-piControl-2deg.001/atm/proc/tseries/month_1/b.e21.B1850.f19_g17.CMIP6-piControl-2deg.001.cam.h0.FSDS.040101-045012.nc\n",
      "/glade/campaign/collections/cmip/CMIP6/timeseries-cmip6/b.e21.B1850.f19_g17.CMIP6-piControl-2deg.001/atm/proc/tseries/month_1/b.e21.B1850.f19_g17.CMIP6-piControl-2deg.001.cam.h0.FSDSC.030101-035012.nc\n",
      "/glade/campaign/collections/cmip/CMIP6/timeseries-cmip6/b.e21.B1850.f19_g17.CMIP6-piControl-2deg.001/atm/proc/tseries/month_1/b.e21.B1850.f19_g17.CMIP6-piControl-2deg.001.cam.h0.FSDSC.035101-040012.nc\n",
      "/glade/campaign/collections/cmip/CMIP6/timeseries-cmip6/b.e21.B1850.f19_g17.CMIP6-piControl-2deg.001/atm/proc/tseries/month_1/b.e21.B1850.f19_g17.CMIP6-piControl-2deg.001.cam.h0.FSDSC.040101-045012.nc\n",
      "/glade/campaign/collections/cmip/CMIP6/timeseries-cmip6/b.e21.B1850.f19_g17.CMIP6-piControl-2deg.001/atm/proc/tseries/month_1/b.e21.B1850.f19_g17.CMIP6-piControl-2deg.001.cam.h0.FSNS.030101-035012.nc\n",
      "/glade/campaign/collections/cmip/CMIP6/timeseries-cmip6/b.e21.B1850.f19_g17.CMIP6-piControl-2deg.001/atm/proc/tseries/month_1/b.e21.B1850.f19_g17.CMIP6-piControl-2deg.001.cam.h0.FSNS.035101-040012.nc\n",
      "/glade/campaign/collections/cmip/CMIP6/timeseries-cmip6/b.e21.B1850.f19_g17.CMIP6-piControl-2deg.001/atm/proc/tseries/month_1/b.e21.B1850.f19_g17.CMIP6-piControl-2deg.001.cam.h0.FSNS.040101-045012.nc\n",
      "/glade/campaign/collections/cmip/CMIP6/timeseries-cmip6/b.e21.B1850.f19_g17.CMIP6-piControl-2deg.001/atm/proc/tseries/month_1/b.e21.B1850.f19_g17.CMIP6-piControl-2deg.001.cam.h0.FSNSC.030101-035012.nc\n",
      "/glade/campaign/collections/cmip/CMIP6/timeseries-cmip6/b.e21.B1850.f19_g17.CMIP6-piControl-2deg.001/atm/proc/tseries/month_1/b.e21.B1850.f19_g17.CMIP6-piControl-2deg.001.cam.h0.FSNSC.035101-040012.nc\n",
      "/glade/campaign/collections/cmip/CMIP6/timeseries-cmip6/b.e21.B1850.f19_g17.CMIP6-piControl-2deg.001/atm/proc/tseries/month_1/b.e21.B1850.f19_g17.CMIP6-piControl-2deg.001.cam.h0.FSNSC.040101-045012.nc\n",
      "/glade/campaign/collections/cmip/CMIP6/timeseries-cmip6/b.e21.B1850.f19_g17.CMIP6-piControl-2deg.001/atm/proc/tseries/month_1/b.e21.B1850.f19_g17.CMIP6-piControl-2deg.001.cam.h0.FSUTOA.030101-035012.nc\n",
      "/glade/campaign/collections/cmip/CMIP6/timeseries-cmip6/b.e21.B1850.f19_g17.CMIP6-piControl-2deg.001/atm/proc/tseries/month_1/b.e21.B1850.f19_g17.CMIP6-piControl-2deg.001.cam.h0.FSUTOA.035101-040012.nc\n",
      "/glade/campaign/collections/cmip/CMIP6/timeseries-cmip6/b.e21.B1850.f19_g17.CMIP6-piControl-2deg.001/atm/proc/tseries/month_1/b.e21.B1850.f19_g17.CMIP6-piControl-2deg.001.cam.h0.FSUTOA.040101-045012.nc\n",
      "/glade/campaign/collections/cmip/CMIP6/timeseries-cmip6/b.e21.B1850.f19_g17.CMIP6-piControl-2deg.001/atm/proc/tseries/month_1/b.e21.B1850.f19_g17.CMIP6-piControl-2deg.001.cam.h0.FSNTOA.030101-035012.nc\n",
      "/glade/campaign/collections/cmip/CMIP6/timeseries-cmip6/b.e21.B1850.f19_g17.CMIP6-piControl-2deg.001/atm/proc/tseries/month_1/b.e21.B1850.f19_g17.CMIP6-piControl-2deg.001.cam.h0.FSNTOA.035101-040012.nc\n",
      "/glade/campaign/collections/cmip/CMIP6/timeseries-cmip6/b.e21.B1850.f19_g17.CMIP6-piControl-2deg.001/atm/proc/tseries/month_1/b.e21.B1850.f19_g17.CMIP6-piControl-2deg.001.cam.h0.FSNTOA.040101-045012.nc\n",
      "/glade/campaign/collections/cmip/CMIP6/timeseries-cmip6/b.e21.B1850.f19_g17.CMIP6-piControl-2deg.001/atm/proc/tseries/month_1/b.e21.B1850.f19_g17.CMIP6-piControl-2deg.001.cam.h0.FSNTOAC.030101-035012.nc\n",
      "/glade/campaign/collections/cmip/CMIP6/timeseries-cmip6/b.e21.B1850.f19_g17.CMIP6-piControl-2deg.001/atm/proc/tseries/month_1/b.e21.B1850.f19_g17.CMIP6-piControl-2deg.001.cam.h0.FSNTOAC.035101-040012.nc\n",
      "/glade/campaign/collections/cmip/CMIP6/timeseries-cmip6/b.e21.B1850.f19_g17.CMIP6-piControl-2deg.001/atm/proc/tseries/month_1/b.e21.B1850.f19_g17.CMIP6-piControl-2deg.001.cam.h0.FSNTOAC.040101-045012.nc\n",
      "/glade/campaign/collections/cmip/CMIP6/timeseries-cmip6/b.e21.B1850.f19_g17.CMIP6-piControl-2deg.001/atm/proc/tseries/month_1/b.e21.B1850.f19_g17.CMIP6-piControl-2deg.001.cam.h0.TS.030101-035012.nc\n",
      "/glade/campaign/collections/cmip/CMIP6/timeseries-cmip6/b.e21.B1850.f19_g17.CMIP6-piControl-2deg.001/atm/proc/tseries/month_1/b.e21.B1850.f19_g17.CMIP6-piControl-2deg.001.cam.h0.TS.035101-040012.nc\n",
      "/glade/campaign/collections/cmip/CMIP6/timeseries-cmip6/b.e21.B1850.f19_g17.CMIP6-piControl-2deg.001/atm/proc/tseries/month_1/b.e21.B1850.f19_g17.CMIP6-piControl-2deg.001.cam.h0.TS.040101-045012.nc\n",
      "/glade/campaign/collections/cmip/CMIP6/timeseries-cmip6/b.e21.BCO2x4.f19_g17.CMIP6-abrupt4xCO2-2deg.001/atm/proc/tseries/month_1/b.e21.BCO2x4.f19_g17.CMIP6-abrupt4xCO2-2deg.001.cam.h0.CLDTOT.000101-005012.nc\n",
      "/glade/campaign/collections/cmip/CMIP6/timeseries-cmip6/b.e21.BCO2x4.f19_g17.CMIP6-abrupt4xCO2-2deg.001/atm/proc/tseries/month_1/b.e21.BCO2x4.f19_g17.CMIP6-abrupt4xCO2-2deg.001.cam.h0.CLDTOT.005101-010012.nc\n",
      "/glade/campaign/collections/cmip/CMIP6/timeseries-cmip6/b.e21.BCO2x4.f19_g17.CMIP6-abrupt4xCO2-2deg.001/atm/proc/tseries/month_1/b.e21.BCO2x4.f19_g17.CMIP6-abrupt4xCO2-2deg.001.cam.h0.CLDTOT.010101-015012.nc\n",
      "/glade/campaign/collections/cmip/CMIP6/timeseries-cmip6/b.e21.BCO2x4.f19_g17.CMIP6-abrupt4xCO2-2deg.001/atm/proc/tseries/month_1/b.e21.BCO2x4.f19_g17.CMIP6-abrupt4xCO2-2deg.001.cam.h0.FSDS.000101-005012.nc\n",
      "/glade/campaign/collections/cmip/CMIP6/timeseries-cmip6/b.e21.BCO2x4.f19_g17.CMIP6-abrupt4xCO2-2deg.001/atm/proc/tseries/month_1/b.e21.BCO2x4.f19_g17.CMIP6-abrupt4xCO2-2deg.001.cam.h0.FSDS.005101-010012.nc\n",
      "/glade/campaign/collections/cmip/CMIP6/timeseries-cmip6/b.e21.BCO2x4.f19_g17.CMIP6-abrupt4xCO2-2deg.001/atm/proc/tseries/month_1/b.e21.BCO2x4.f19_g17.CMIP6-abrupt4xCO2-2deg.001.cam.h0.FSDS.010101-015012.nc\n",
      "/glade/campaign/collections/cmip/CMIP6/timeseries-cmip6/b.e21.BCO2x4.f19_g17.CMIP6-abrupt4xCO2-2deg.001/atm/proc/tseries/month_1/b.e21.BCO2x4.f19_g17.CMIP6-abrupt4xCO2-2deg.001.cam.h0.FSDSC.000101-005012.nc\n",
      "/glade/campaign/collections/cmip/CMIP6/timeseries-cmip6/b.e21.BCO2x4.f19_g17.CMIP6-abrupt4xCO2-2deg.001/atm/proc/tseries/month_1/b.e21.BCO2x4.f19_g17.CMIP6-abrupt4xCO2-2deg.001.cam.h0.FSDSC.005101-010012.nc\n",
      "/glade/campaign/collections/cmip/CMIP6/timeseries-cmip6/b.e21.BCO2x4.f19_g17.CMIP6-abrupt4xCO2-2deg.001/atm/proc/tseries/month_1/b.e21.BCO2x4.f19_g17.CMIP6-abrupt4xCO2-2deg.001.cam.h0.FSDSC.010101-015012.nc\n",
      "/glade/campaign/collections/cmip/CMIP6/timeseries-cmip6/b.e21.BCO2x4.f19_g17.CMIP6-abrupt4xCO2-2deg.001/atm/proc/tseries/month_1/b.e21.BCO2x4.f19_g17.CMIP6-abrupt4xCO2-2deg.001.cam.h0.FSNS.000101-005012.nc\n",
      "/glade/campaign/collections/cmip/CMIP6/timeseries-cmip6/b.e21.BCO2x4.f19_g17.CMIP6-abrupt4xCO2-2deg.001/atm/proc/tseries/month_1/b.e21.BCO2x4.f19_g17.CMIP6-abrupt4xCO2-2deg.001.cam.h0.FSNS.005101-010012.nc\n",
      "/glade/campaign/collections/cmip/CMIP6/timeseries-cmip6/b.e21.BCO2x4.f19_g17.CMIP6-abrupt4xCO2-2deg.001/atm/proc/tseries/month_1/b.e21.BCO2x4.f19_g17.CMIP6-abrupt4xCO2-2deg.001.cam.h0.FSNS.010101-015012.nc\n",
      "/glade/campaign/collections/cmip/CMIP6/timeseries-cmip6/b.e21.BCO2x4.f19_g17.CMIP6-abrupt4xCO2-2deg.001/atm/proc/tseries/month_1/b.e21.BCO2x4.f19_g17.CMIP6-abrupt4xCO2-2deg.001.cam.h0.FSNSC.000101-005012.nc\n",
      "/glade/campaign/collections/cmip/CMIP6/timeseries-cmip6/b.e21.BCO2x4.f19_g17.CMIP6-abrupt4xCO2-2deg.001/atm/proc/tseries/month_1/b.e21.BCO2x4.f19_g17.CMIP6-abrupt4xCO2-2deg.001.cam.h0.FSNSC.005101-010012.nc\n",
      "/glade/campaign/collections/cmip/CMIP6/timeseries-cmip6/b.e21.BCO2x4.f19_g17.CMIP6-abrupt4xCO2-2deg.001/atm/proc/tseries/month_1/b.e21.BCO2x4.f19_g17.CMIP6-abrupt4xCO2-2deg.001.cam.h0.FSNSC.010101-015012.nc\n",
      "/glade/campaign/collections/cmip/CMIP6/timeseries-cmip6/b.e21.BCO2x4.f19_g17.CMIP6-abrupt4xCO2-2deg.001/atm/proc/tseries/month_1/b.e21.BCO2x4.f19_g17.CMIP6-abrupt4xCO2-2deg.001.cam.h0.FSUTOA.000101-005012.nc\n",
      "/glade/campaign/collections/cmip/CMIP6/timeseries-cmip6/b.e21.BCO2x4.f19_g17.CMIP6-abrupt4xCO2-2deg.001/atm/proc/tseries/month_1/b.e21.BCO2x4.f19_g17.CMIP6-abrupt4xCO2-2deg.001.cam.h0.FSUTOA.005101-010012.nc\n",
      "/glade/campaign/collections/cmip/CMIP6/timeseries-cmip6/b.e21.BCO2x4.f19_g17.CMIP6-abrupt4xCO2-2deg.001/atm/proc/tseries/month_1/b.e21.BCO2x4.f19_g17.CMIP6-abrupt4xCO2-2deg.001.cam.h0.FSUTOA.010101-015012.nc\n",
      "/glade/campaign/collections/cmip/CMIP6/timeseries-cmip6/b.e21.BCO2x4.f19_g17.CMIP6-abrupt4xCO2-2deg.001/atm/proc/tseries/month_1/b.e21.BCO2x4.f19_g17.CMIP6-abrupt4xCO2-2deg.001.cam.h0.FSNTOA.000101-005012.nc\n",
      "/glade/campaign/collections/cmip/CMIP6/timeseries-cmip6/b.e21.BCO2x4.f19_g17.CMIP6-abrupt4xCO2-2deg.001/atm/proc/tseries/month_1/b.e21.BCO2x4.f19_g17.CMIP6-abrupt4xCO2-2deg.001.cam.h0.FSNTOA.005101-010012.nc\n",
      "/glade/campaign/collections/cmip/CMIP6/timeseries-cmip6/b.e21.BCO2x4.f19_g17.CMIP6-abrupt4xCO2-2deg.001/atm/proc/tseries/month_1/b.e21.BCO2x4.f19_g17.CMIP6-abrupt4xCO2-2deg.001.cam.h0.FSNTOA.010101-015012.nc\n",
      "/glade/campaign/collections/cmip/CMIP6/timeseries-cmip6/b.e21.BCO2x4.f19_g17.CMIP6-abrupt4xCO2-2deg.001/atm/proc/tseries/month_1/b.e21.BCO2x4.f19_g17.CMIP6-abrupt4xCO2-2deg.001.cam.h0.FSNTOAC.000101-005012.nc\n",
      "/glade/campaign/collections/cmip/CMIP6/timeseries-cmip6/b.e21.BCO2x4.f19_g17.CMIP6-abrupt4xCO2-2deg.001/atm/proc/tseries/month_1/b.e21.BCO2x4.f19_g17.CMIP6-abrupt4xCO2-2deg.001.cam.h0.FSNTOAC.005101-010012.nc\n",
      "/glade/campaign/collections/cmip/CMIP6/timeseries-cmip6/b.e21.BCO2x4.f19_g17.CMIP6-abrupt4xCO2-2deg.001/atm/proc/tseries/month_1/b.e21.BCO2x4.f19_g17.CMIP6-abrupt4xCO2-2deg.001.cam.h0.FSNTOAC.010101-015012.nc\n",
      "/glade/campaign/collections/cmip/CMIP6/timeseries-cmip6/b.e21.BCO2x4.f19_g17.CMIP6-abrupt4xCO2-2deg.001/atm/proc/tseries/month_1/b.e21.BCO2x4.f19_g17.CMIP6-abrupt4xCO2-2deg.001.cam.h0.TS.000101-005012.nc\n",
      "/glade/campaign/collections/cmip/CMIP6/timeseries-cmip6/b.e21.BCO2x4.f19_g17.CMIP6-abrupt4xCO2-2deg.001/atm/proc/tseries/month_1/b.e21.BCO2x4.f19_g17.CMIP6-abrupt4xCO2-2deg.001.cam.h0.TS.005101-010012.nc\n",
      "/glade/campaign/collections/cmip/CMIP6/timeseries-cmip6/b.e21.BCO2x4.f19_g17.CMIP6-abrupt4xCO2-2deg.001/atm/proc/tseries/month_1/b.e21.BCO2x4.f19_g17.CMIP6-abrupt4xCO2-2deg.001.cam.h0.TS.010101-015012.nc\n",
      "CPU times: user 27.3 s, sys: 4.2 s, total: 31.5 s\n",
      "Wall time: 49.9 s\n"
     ]
    }
   ],
   "source": [
    "%%time\n",
    "\n",
    "vnames = ['CLDTOT', 'FSDS', 'FSDSC', 'FSNS', 'FSNSC', 'FSUTOA', 'FSNTOA', 'FSNTOAC', 'TS']\n",
    "vnames_aux = ['lat', 'lon']\n",
    " # vnames_aux = ['lat', 'lon', 'area']\n",
    "   \n",
    "for key in cases.keys():\n",
    "    \n",
    "    print(key)\n",
    "    \n",
    "    filenames1 = []\n",
    "    filenames2 = []\n",
    "    \n",
    "    for vname in vnames:\n",
    "        for suffix_1 in cases[key]['suffix1']:\n",
    "            filenames1.append(f\"{cases[key]['dir1']}/{cases[key]['case1']}/atm/proc/tseries/month_1/{cases[key]['case1']}.cam.h0.{vname}.{suffix_1}\")\n",
    "\n",
    "        for suffix_1 in cases[key]['suffix2']:\n",
    "            filenames2.append(f\"{cases[key]['dir2']}/{cases[key]['case2']}/atm/proc/tseries/month_1/{cases[key]['case2']}.cam.h0.{vname}.{suffix_1}\")\n",
    "\n",
    "    print(*filenames1, sep='\\n')\n",
    "    print(*filenames2, sep='\\n')\n",
    "    aprp.aprp_cesm(filenames1, cases[key]['tlim1'],\n",
    "                   filenames2, cases[key]['tlim2'],\n",
    "                   vnames_aux, cases[key]['fout'])"
   ]
  }
 ],
 "metadata": {
  "kernelspec": {
   "display_name": "NPL 2024a",
   "language": "python",
   "name": "npl-2024a"
  },
  "language_info": {
   "codemirror_mode": {
    "name": "ipython",
    "version": 3
   },
   "file_extension": ".py",
   "mimetype": "text/x-python",
   "name": "python",
   "nbconvert_exporter": "python",
   "pygments_lexer": "ipython3",
   "version": "3.11.6"
  }
 },
 "nbformat": 4,
 "nbformat_minor": 5
}
